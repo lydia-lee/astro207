{
 "cells": [
  {
   "cell_type": "code",
   "execution_count": 1,
   "metadata": {},
   "outputs": [],
   "source": [
    "import sys\n",
    "sys.path.append('..')\n",
    "from pprint import pprint\n",
    "\n",
    "from constants.constants import *\n",
    "import numpy as np"
   ]
  },
  {
   "cell_type": "markdown",
   "metadata": {},
   "source": [
    "# C207 Activity Sheet 1"
   ]
  },
  {
   "cell_type": "markdown",
   "metadata": {},
   "source": [
    "## 1. What are the units of specific intensity, $I_\\nu$?"
   ]
  },
  {
   "cell_type": "markdown",
   "metadata": {},
   "source": [
    "energy/(area.time.solid angle.frequency)"
   ]
  },
  {
   "cell_type": "code",
   "execution_count": null,
   "metadata": {},
   "outputs": [],
   "source": [
    "# Calculations (these cells are interpreted as python, if you want to use it as a calculator)"
   ]
  },
  {
   "cell_type": "markdown",
   "metadata": {},
   "source": [
    "### Musings (these cells are interpreted as markup, for writing text):\n",
    "\n",
    "Fill in your thoughts here."
   ]
  },
  {
   "cell_type": "markdown",
   "metadata": {},
   "source": [
    "## 2. What is the specific intensity of the Sun in visible wavelengths? How about a 100W incandescent light bulb?"
   ]
  },
  {
   "cell_type": "code",
   "execution_count": 3,
   "metadata": {},
   "outputs": [],
   "source": [
    "F_sun = 1366 # W / m^2, Solar flux at earth's surface\n",
    "P_bulb = 100 # W\n",
    "# Calculations"
   ]
  },
  {
   "cell_type": "code",
   "execution_count": 17,
   "metadata": {},
   "outputs": [
    {
     "name": "stdout",
     "output_type": "stream",
     "text": [
      "4.567684196986613e-08 J/(m^2.s.sr.Hz)\n"
     ]
    }
   ],
   "source": [
    "theta_sun = 0.25 # deg, appearance of the sun in the sky\n",
    "lamb_vec = [300e-9, 600e-9] # m, wavelength\n",
    "\n",
    "Omega_sun = (.25 * np.pi/180)**2 # sr\n",
    "nu_vec = [c/lamb for lamb in lamb_vec] # Hz, frequency\n",
    "d_nu = max(nu_vec) - min(nu_vec)\n",
    "\n",
    "Inu_sun = F_sun / (Omega_sun * d_nu)\n",
    "print(f'{Inu_sun} J/(m^2.s.sr.Hz)') # Extra factor of pi?"
   ]
  },
  {
   "cell_type": "code",
   "execution_count": 15,
   "metadata": {},
   "outputs": [
    {
     "name": "stdout",
     "output_type": "stream",
     "text": [
      "3.1662869888230557e-12 J/(m^2.s.sr.Hz)\n"
     ]
    }
   ],
   "source": [
    "# *Be* the lightbulb\n",
    "Omega_bulb = 4*np.pi # sr\n",
    "A_bulb = 4*np.pi * (2e-2)**2 # m^2, surface area of the bulb\n",
    "\n",
    "Inu_bulb = P_bulb / (Omega_bulb * d_nu * A_bulb)\n",
    "print(f'{Inu_bulb} J/(m^2.s.sr.Hz)')"
   ]
  },
  {
   "cell_type": "markdown",
   "metadata": {},
   "source": [
    "### Musings:\n",
    "\n",
    "Fill in your thoughts here."
   ]
  },
  {
   "cell_type": "markdown",
   "metadata": {},
   "source": [
    "## 3. Achieving some resolution\n",
    "\n",
    "Suppose two telecopes observe a background of uniform intensity $I_\\nu$ (for example, the cosmic microwave background is, to a part in $10^3$, a uniform 2.725 K on the sky). Assume the beams of both \n",
    "telescopes are completely contained within the field (the source is resolved).\n",
    "If one telescope has twice the diameter of the other, how do their output powers compare, all other things being equal? (Hint: the angular width of a telescope's beam is inversely proportional to diameter).\n",
    "\n",
    "If you are curious, radio astronomers use a temperature to describe specific intensity by approximating the Planck (thermal) blackbody function $B_\\nu$---which has units of specific intensity---in the $h\\nu\\ll kT$ \"Rayleigh-Jeans\" limit as\n",
    "\\begin{equation}\n",
    "B_\\nu=\\frac{2h\\nu^3}{c^2}\\frac{1}{e^{h\\nu/kT} -1}\\approx \\frac{2k T}{\\lambda^2},\n",
    "\\end{equation}\n",
    "using $e^x\\approx1+x$ for $x\\equiv h\\nu/kT\\ll 1$. They then do something funny and describe *any* specific intensity $I_\\nu$ as\n",
    "\\begin{equation}\n",
    "I_\\nu\\equiv \\frac{2k T_B}{\\lambda^2}\n",
    "\\end{equation}\n",
    "where this is taken to be the definition of $T_B$, the brightness temperature, even if the specific intensity it is being used to describe is *not* a Planck function (in which case, $T_B$ would be frequency-dependent)."
   ]
  },
  {
   "cell_type": "code",
   "execution_count": null,
   "metadata": {},
   "outputs": [],
   "source": [
    "# Calculations area"
   ]
  },
  {
   "cell_type": "markdown",
   "metadata": {},
   "source": [
    "### Musings:\n",
    "\n",
    "$$P = I_\\nu \\cdot \\Omega \\cdot \\delta \\nu \\cdot A$$\n",
    "\n",
    "The beam angle $\\theta \\approx \\frac{\\lambda}{D}$ where $D$ is the diameter of the receiving telescope, i.e. the beam's solid angle $\\Omega \\propto \\frac{1}{A}$.\n",
    "\n",
    "$\\Omega \\propto \\frac{1}{A}$, so when the beams of both telescopes are completly contained within the field, the amount of received power doesn't change."
   ]
  },
  {
   "cell_type": "markdown",
   "metadata": {},
   "source": [
    "## 4. Lightsails have been proposed as a method for accelerating spacecraft out of our solar system. They are essentially giant mirrors that reflect sunlight to harvest momentum. How big of a sail would be required to prevent a 1000 kg spacecraft from falling into the Sun?"
   ]
  },
  {
   "cell_type": "code",
   "execution_count": null,
   "metadata": {},
   "outputs": [],
   "source": [
    "# Calculations\n",
    "m_ship = 1000 # kg\n",
    "\n",
    "R = "
   ]
  },
  {
   "cell_type": "markdown",
   "metadata": {},
   "source": [
    "### Musings:\n",
    "\n",
    "Unfortunately, there are too many $F$s in this chat, so I'm going to reserve $F$ as energy flux.\n",
    "\n",
    "First, the force exerted on the ship 1AU away from the sun:\n",
    "$$\\text{gravitational force} = G\\frac{M_\\text{ship}M_\\text{sun}}{R^2}$$\n",
    "\n",
    "The momentum flux is the energy flux divided by $c$, also known as pressure\n",
    "$$\\frac{\\text{force}\\times\\text{distance}}{\\text{area}\\times\\text{time}} \\cdot \\frac{\\text{time}}{\\text{distance}} = \\frac{\\text{force}}{\\text{area}}$$\n",
    "\n",
    "So the force exerted on a sail of area $A_\\text{sail}$\n",
    "$$\\text{sail force} = A_\\text{sail}\\frac{F_\\text{sun}}{c}$$\n",
    "\n",
    "We're given a few values already:\n",
    "* Energy flux of the sun: $F_\\text{sun} = 1366 \\frac{\\text{W}}{\\text{m}^2}$\n",
    "* Speed of light in vacuum: $c = 3 \\times 10^8 \\frac{\\text{m}}{\\text{s}}$\n",
    "\n",
    "Setting the gravitational and sail forces equal to one another\n",
    "$$A_\\text{sail}\\frac{F_\\text{sun}}{c} = G\\frac{M_\\text{ship}M_\\text{sun}}{R^2}$$\n",
    "$$A_\\text{sail} = G\\frac{M_\\text{ship}M_\\text{sun}}{R^2} \\cdot \\frac{c}{F_\\text{sun}}$$\n",
    "\n",
    "fixing units as necessary"
   ]
  },
  {
   "cell_type": "code",
   "execution_count": null,
   "metadata": {},
   "outputs": [],
   "source": []
  }
 ],
 "metadata": {
  "kernelspec": {
   "display_name": "Python 3",
   "language": "python",
   "name": "python3"
  },
  "language_info": {
   "codemirror_mode": {
    "name": "ipython",
    "version": 3
   },
   "file_extension": ".py",
   "mimetype": "text/x-python",
   "name": "python",
   "nbconvert_exporter": "python",
   "pygments_lexer": "ipython3",
   "version": "3.6.5"
  }
 },
 "nbformat": 4,
 "nbformat_minor": 4
}
