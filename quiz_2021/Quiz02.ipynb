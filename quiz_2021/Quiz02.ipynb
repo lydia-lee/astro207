{
 "cells": [
  {
   "cell_type": "markdown",
   "metadata": {},
   "source": [
    "# C207 Activity Sheet 2"
   ]
  },
  {
   "cell_type": "markdown",
   "metadata": {},
   "source": [
    "## 1. What are the units of specific intensity, $I_\\nu$?"
   ]
  },
  {
   "cell_type": "markdown",
   "metadata": {},
   "source": [
    "$$\\frac{\\text{energy}}{\\text{time}\\cdot\\text{area}\\cdot\\text{frequency}\\cdot\\text{solid angle}}$$"
   ]
  },
  {
   "cell_type": "markdown",
   "metadata": {},
   "source": [
    "## 2. What do optically thick and optically thin mean, qualitatively and quantitatively?"
   ]
  },
  {
   "cell_type": "markdown",
   "metadata": {},
   "source": [
    "Qualitatively: optically thin/thick means the typical photon for a given frequency $\\nu$ can/can't traverse the medium without being absorbed. i.e. the mean free path is greater than the thickness of the material.\n",
    "\n",
    "Quantitatively: Optically thin/thick is $\\tau_\\nu = \\int_{x_0}^x\\alpha_\\nu(x')dx'$ less than 1 and greater than 1, respectively."
   ]
  },
  {
   "cell_type": "markdown",
   "metadata": {},
   "source": [
    "## 3. What do you call the ratio of the emission to extinction in a medium?"
   ]
  },
  {
   "cell_type": "markdown",
   "metadata": {},
   "source": [
    "The source function $S_\\nu = \\frac{j_\\nu}{\\alpha_nu}$"
   ]
  },
  {
   "cell_type": "markdown",
   "metadata": {},
   "source": [
    "## 4. What does $s$ measure in the following equation?\n",
    "\\begin{equation}\n",
    "\\frac{dI_\\nu}{ds}=j_\\nu-\\alpha_\\nu I_\\nu\n",
    "\\end{equation}"
   ]
  },
  {
   "cell_type": "markdown",
   "metadata": {},
   "source": [
    "Distance along the ray in the direction of its motion, starting from where it first enters the medium in question"
   ]
  },
  {
   "cell_type": "markdown",
   "metadata": {},
   "source": [
    "## 5. Be the Tree\n",
    "What is the optical depth of a leafy tree to someone lying below the tree? "
   ]
  },
  {
   "cell_type": "code",
   "execution_count": 1,
   "metadata": {},
   "outputs": [],
   "source": [
    "# Calculations here"
   ]
  },
  {
   "cell_type": "markdown",
   "metadata": {},
   "source": [
    "$\\tau_\\nu = N\\sigma_\\nu$ where $N$ is the number of exinguishers per area and $\\sigma_\\nu$ is the cross section of an extinguisher."
   ]
  },
  {
   "cell_type": "markdown",
   "metadata": {},
   "source": [
    "## 6. Glowsticks\n",
    "Estimate the emissivity of an orange glowstick. (My recollection is that you can read by the light of one, which is also true of a 10 mW yellow LED)."
   ]
  },
  {
   "cell_type": "code",
   "execution_count": 2,
   "metadata": {},
   "outputs": [],
   "source": [
    "# Calculations here"
   ]
  },
  {
   "cell_type": "markdown",
   "metadata": {},
   "source": [
    "Emissivity is energy emitted per time, solid angle, volume, and frequency.\n",
    "\n",
    "A 600nm wavelength ($\\lambda\\nu = c$) corresponds to 500THz, BUT we're interested in the bandwidth of emission, not the center frequency, so that 500THz is some amount smaller (I don't have a good top-of-my-head gauge). \n",
    "$$\\frac{10\\text{mW}}{\\Omega \\times V \\times f_\\text{BW}}$$ \n",
    "\n",
    "Furthermore, we should be aware that the volume $V$ is not necessarily the volume of the full glowstick in the same way that we aren't seeing photons from the center of the sun."
   ]
  },
  {
   "cell_type": "markdown",
   "metadata": {},
   "source": [
    "## 7. The coldest winter I ever spent was a summer in San Francisco\n",
    "Use your experience with foggy Bay Area days to estimate the number density of water droplets in our fog."
   ]
  },
  {
   "cell_type": "code",
   "execution_count": 3,
   "metadata": {},
   "outputs": [],
   "source": [
    "# Calculations here"
   ]
  },
  {
   "cell_type": "markdown",
   "metadata": {},
   "source": [
    "We're looking for $n$, the number density of water droplets.\n",
    "\n",
    "It's pretty freaking hard to see, so let's say we know what $\\tau_\\nu$ is. From there, $\\tau_\\nu = n\\sigma_\\nu s$ where $\\sigma_\\nu$ is the cross section of the droplet and $s$ is the position along the ray."
   ]
  },
  {
   "cell_type": "code",
   "execution_count": null,
   "metadata": {},
   "outputs": [],
   "source": []
  }
 ],
 "metadata": {
  "kernelspec": {
   "display_name": "Python 3",
   "language": "python",
   "name": "python3"
  },
  "language_info": {
   "codemirror_mode": {
    "name": "ipython",
    "version": 3
   },
   "file_extension": ".py",
   "mimetype": "text/x-python",
   "name": "python",
   "nbconvert_exporter": "python",
   "pygments_lexer": "ipython3",
   "version": "3.6.5"
  }
 },
 "nbformat": 4,
 "nbformat_minor": 4
}
