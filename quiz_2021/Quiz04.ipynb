{
 "cells": [
  {
   "cell_type": "code",
   "execution_count": 1,
   "metadata": {},
   "outputs": [],
   "source": [
    "%matplotlib inline\n",
    "import numpy as np\n",
    "import matplotlib.pyplot as plt"
   ]
  },
  {
   "cell_type": "markdown",
   "metadata": {},
   "source": [
    "# C207 Activity Sheet 4"
   ]
  },
  {
   "cell_type": "markdown",
   "metadata": {},
   "source": [
    "## 1. Why are Gaussians so prevalent in nature?"
   ]
  },
  {
   "cell_type": "markdown",
   "metadata": {},
   "source": [
    "Write a response here"
   ]
  },
  {
   "cell_type": "markdown",
   "metadata": {},
   "source": [
    "## 2. In the absence of ambient light, what  is the emissivity of an ideal scatterer?"
   ]
  },
  {
   "cell_type": "markdown",
   "metadata": {},
   "source": [
    "Write a response here"
   ]
  },
  {
   "cell_type": "markdown",
   "metadata": {},
   "source": [
    "## 3. Suppose I flip a coin 100 times and record the number of  heads $H$ and tails $T$.  What is the expected value of $\\sqrt{\\langle(H-T)^2\\rangle}$?"
   ]
  },
  {
   "cell_type": "markdown",
   "metadata": {},
   "source": [
    "Write a response here"
   ]
  },
  {
   "cell_type": "code",
   "execution_count": 15,
   "metadata": {},
   "outputs": [
    {
     "data": {
      "text/plain": [
       "<matplotlib.legend.Legend at 0x19e2d570908>"
      ]
     },
     "execution_count": 15,
     "metadata": {},
     "output_type": "execute_result"
    },
    {
     "data": {
      "image/png": "[encoded data removed]",
      "text/plain": [
       "<Figure size 432x288 with 1 Axes>"
      ]
     },
     "metadata": {},
     "output_type": "display_data"
    }
   ],
   "source": [
    "def flips_heads(P1):\n",
    "    return 1 if np.random.rand() <= P1 else 0\n",
    "\n",
    "P_heads = 0.5\n",
    "N_flip_vec = [int(round(x)) for x in np.arange(10, 1000, 50)]\n",
    "rms_vec = [0] * len(N_flip_vec)\n",
    "n_repeat = 1000\n",
    "\n",
    "for i, N in enumerate(N_flip_vec):\n",
    "    diff_sq_vec = [0] * n_repeat\n",
    "    for j in range(n_repeat):\n",
    "        H = sum([flips_heads(P_heads) for _ in range(N)]) # Number of H\n",
    "        T = N - H\n",
    "        diff_sq_vec[j] = (H-T)**2\n",
    "    rms_vec[i] = np.sqrt(np.mean(diff_sq_vec))\n",
    "\n",
    "plt.plot(N_flip_vec, rms_vec, '-x', label='Experiment')\n",
    "plt.plot(N_flip_vec, [np.sqrt(N) for N in N_flip_vec], label='$\\sqrt{N}$')\n",
    "plt.legend()"
   ]
  },
  {
   "cell_type": "markdown",
   "metadata": {},
   "source": [
    "## 5. Scatter Away\n",
    "\n",
    "For this problem, assume you have photons sourced at a fixed rate from a star in the middle\n",
    "of a uniform spherical cloud of scatterers.\n",
    "\n",
    "* How does the time it takes a photon to escape a scattering medium scale with the optical depth of that medium?  \n",
    "* How does photon density scale with radius?\n",
    "* If it takes a photon 100 kyrs to escape from inside the Sun (this is, at best, a gross over-simplification) what is the implied optical depth of the Sun?"
   ]
  },
  {
   "cell_type": "code",
   "execution_count": 1,
   "metadata": {},
   "outputs": [],
   "source": [
    "t_escape = 100e3 # years for a photon to escape from the Sun\n",
    "# Calculations here"
   ]
  },
  {
   "cell_type": "markdown",
   "metadata": {},
   "source": [
    "Write a response here"
   ]
  },
  {
   "cell_type": "markdown",
   "metadata": {},
   "source": [
    "## 6. High Beams, Low Beams\n",
    "\n",
    "If you've driven in the fog at night, you know that it can be very hard to\n",
    "see with your high beams on.  Can you estimate for what optical depths\n",
    "to scattering it might be advantageous to use your low beams instead?"
   ]
  },
  {
   "cell_type": "code",
   "execution_count": 2,
   "metadata": {},
   "outputs": [],
   "source": [
    "# Calculations here"
   ]
  },
  {
   "cell_type": "markdown",
   "metadata": {},
   "source": [
    "Write a response here"
   ]
  },
  {
   "cell_type": "markdown",
   "metadata": {},
   "source": [
    "# 7. (Bonus) Cooking Tofurkey\n",
    "\n",
    "Cooking is the process of heat diffusion, and we generally rely on conduction to do the job. Conduction\n",
    "can be thought of as phonons (note the 'n': phonons are to sound as photons are to light) diffusing through a scattering medium.\n",
    "\n",
    "Knowing what you know about scattering, how should cooking time scale with the weight of your Tofurkey?"
   ]
  },
  {
   "cell_type": "code",
   "execution_count": 3,
   "metadata": {},
   "outputs": [],
   "source": [
    "# Calculations here"
   ]
  },
  {
   "cell_type": "markdown",
   "metadata": {},
   "source": [
    "Write a response here"
   ]
  }
 ],
 "metadata": {
  "kernelspec": {
   "display_name": "Python 3",
   "language": "python",
   "name": "python3"
  },
  "language_info": {
   "codemirror_mode": {
    "name": "ipython",
    "version": 3
   },
   "file_extension": ".py",
   "mimetype": "text/x-python",
   "name": "python",
   "nbconvert_exporter": "python",
   "pygments_lexer": "ipython3",
   "version": "3.6.5"
  }
 },
 "nbformat": 4,
 "nbformat_minor": 4
}
