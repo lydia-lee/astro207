{
 "cells": [
  {
   "cell_type": "code",
   "execution_count": 2,
   "metadata": {},
   "outputs": [],
   "source": [
    "import numpy as np\n",
    "from pprint import pprint"
   ]
  },
  {
   "cell_type": "code",
   "execution_count": 7,
   "metadata": {},
   "outputs": [],
   "source": [
    "hbar = 1e-27 # erg.s, Planck\n",
    "h_Planck = hbar*2*np.pi\n",
    "k_B_erg = 1.4e-16 # erg/K\n",
    "k_B_eV = 8.6e-5 # eV/K\n",
    "m_e = 1e-27 # g, electron mass\n",
    "m_p = 1.7e-24 # g, proton mass\n",
    "chi_eV = 13.6 # eV, bond energy\n",
    "sigma_bf_chi = 6e-18 # cm^2\n",
    "eV2erg = 1/6.2e11 # erg/eV\n",
    "chi = chi_eV*eV2erg\n",
    "c = 3e10 # cm/s, speed of light\n",
    "q = 5e-10 # esu\n",
    "\n",
    "T = 1e4 # K, temperature\n",
    "n = 1\n",
    "g0_vs_gPlus = 2"
   ]
  },
  {
   "cell_type": "code",
   "execution_count": 4,
   "metadata": {},
   "outputs": [
    {
     "name": "stdout",
     "output_type": "stream",
     "text": [
      "73779.26125684605 years\n"
     ]
    }
   ],
   "source": [
    "t_rec = 1/(n * sigma_bf_chi * g0_vs_gPlus * (chi/(m_e*c))**2 * np.sqrt(2*np.pi * m_e/(k_B_erg*T)))\n",
    "print(f'{t_rec/(525600*60)} years')"
   ]
  },
  {
   "cell_type": "code",
   "execution_count": 6,
   "metadata": {},
   "outputs": [
    {
     "name": "stdout",
     "output_type": "stream",
     "text": [
      "0.17616551102091438 years\n"
     ]
    }
   ],
   "source": [
    "t_ion = 1/(c * n * sigma_bf_chi)\n",
    "print(f'{t_ion/(525600*60)} years')"
   ]
  },
  {
   "cell_type": "markdown",
   "metadata": {},
   "source": [
    "<h1>2</h1>\n",
    "<h2>2.1</h2>"
   ]
  },
  {
   "cell_type": "code",
   "execution_count": 5,
   "metadata": {},
   "outputs": [],
   "source": [
    "T_e = 1e4\n",
    "T_p = 1e4\n",
    "t_e = np.sqrt(m_e) * (2*k_B_erg * T_e)**1.5 / (n * np.pi * q**4)\n",
    "t_p = np.sqrt(m_p) * (2*k_B_erg * T_p)**1.5 / (n * np.pi * q**4)"
   ]
  },
  {
   "cell_type": "code",
   "execution_count": 6,
   "metadata": {},
   "outputs": [
    {
     "data": {
      "text/plain": [
       "1.6800000000000003e-22"
      ]
     },
     "execution_count": 6,
     "metadata": {},
     "output_type": "execute_result"
    }
   ],
   "source": []
  },
  {
   "cell_type": "code",
   "execution_count": null,
   "metadata": {},
   "outputs": [],
   "source": []
  }
 ],
 "metadata": {
  "kernelspec": {
   "display_name": "Python 3",
   "language": "python",
   "name": "python3"
  },
  "language_info": {
   "codemirror_mode": {
    "name": "ipython",
    "version": 3
   },
   "file_extension": ".py",
   "mimetype": "text/x-python",
   "name": "python",
   "nbconvert_exporter": "python",
   "pygments_lexer": "ipython3",
   "version": "3.6.5"
  }
 },
 "nbformat": 4,
 "nbformat_minor": 2
}
