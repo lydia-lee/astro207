{
 "cells": [
  {
   "cell_type": "code",
   "execution_count": 2,
   "metadata": {},
   "outputs": [],
   "source": [
    "import numpy as np"
   ]
  },
  {
   "cell_type": "code",
   "execution_count": 3,
   "metadata": {},
   "outputs": [],
   "source": [
    "pc2cm = 3.1e18\n",
    "Jy2cgs = 1e-23 # 1Jy in erg/(s.cm^2.Hz)\n",
    "m_e = 1e-27 # g, electron mass\n",
    "q = 5e-10 # esu, electron charge\n",
    "c = 3e10 # cm/s, speed of light\n",
    "\n",
    "r_lobe = 30e3 * pc2cm # cm, lobe radius\n",
    "V_lobe = 4/3 * np.pi * r_lobe**3 # cm**3, single lobe volume\n",
    "d = 230e6 * pc2cm"
   ]
  },
  {
   "cell_type": "markdown",
   "metadata": {},
   "source": [
    "<h1>1</h1>"
   ]
  },
  {
   "cell_type": "code",
   "execution_count": 8,
   "metadata": {},
   "outputs": [
    {
     "name": "stdout",
     "output_type": "stream",
     "text": [
      "p: -2.130824020647813\n"
     ]
    }
   ],
   "source": [
    "nu_vec = [100e6,\n",
    "          10e6,\n",
    "          2e10]\n",
    "F_vec = [1e4,\n",
    "         1e5,\n",
    "         500]\n",
    "\n",
    "idx0 = 0\n",
    "idx1 = 2\n",
    "\n",
    "nu0 = nu_vec[idx0]\n",
    "nu1 = nu_vec[idx1]\n",
    "F0 = F_vec[idx0]\n",
    "F1 = F_vec[idx1]\n",
    "\n",
    "dlogF = np.log(F1/F0)\n",
    "dlognu = np.log(nu1/nu0)\n",
    "p = 2*dlogF/dlognu - 1\n",
    "\n",
    "print(f'p: {p}')"
   ]
  },
  {
   "cell_type": "markdown",
   "metadata": {},
   "source": [
    "<h1>5</h1>"
   ]
  },
  {
   "cell_type": "code",
   "execution_count": 22,
   "metadata": {},
   "outputs": [
    {
     "name": "stdout",
     "output_type": "stream",
     "text": [
      "B field:\t1.644034451791844e-05 <units>\n",
      "gamma_min:\t155.98201939248094\n"
     ]
    }
   ],
   "source": [
    "r_e = q**2/(m_e*c**2)\n",
    "sigma_Thomson = 8*np.pi/3 * r_e**2\n",
    "nu_m = 10e6 # Hz\n",
    "L_m = 5e36 # erg/(s.Hz)\n",
    "\n",
    "coeff_A1 = np.sqrt(2*m_e*c/(3*q))\n",
    "coeff_A2 = np.sqrt(12 * np.pi * (q/m_e*c)**((3+p)/2) / (sigma_Thomson * c))\n",
    "coeff_A = coeff_A1*coeff_A2 / -(1+p)\n",
    "\n",
    "B = (coeff_A * L_m * np.sqrt(nu_m) / V_lobe)**(2/7)\n",
    "nu_cyc = q * B/(m_e * c)\n",
    "gamma_min = np.sqrt(2/3 * nu_m/nu_cyc)\n",
    "\n",
    "print(f'B field:\\t{B} <units>')\n",
    "print(f'gamma_min:\\t{gamma_min}')"
   ]
  },
  {
   "cell_type": "markdown",
   "metadata": {},
   "source": [
    "<h1>6</h1>"
   ]
  },
  {
   "cell_type": "code",
   "execution_count": 23,
   "metadata": {},
   "outputs": [
    {
     "name": "stdout",
     "output_type": "stream",
     "text": [
      "E:\t8.032209147236198e+64 erg\n"
     ]
    }
   ],
   "source": [
    "U_e = coeff_A * L_m * B**((-2+p)/2) * nu_m**(-p/2) / V_lobe\n",
    "U_B = B**2/(8*np.pi)\n",
    "\n",
    "E = 2*V_lobe * (U_e + U_B)\n",
    "print(f'E:\\t{E} erg')"
   ]
  },
  {
   "cell_type": "markdown",
   "metadata": {},
   "source": [
    "<h1>7</h1>"
   ]
  },
  {
   "cell_type": "code",
   "execution_count": 24,
   "metadata": {},
   "outputs": [
    {
     "name": "stdout",
     "output_type": "stream",
     "text": [
      "Mass:\t\t8.924676830262442e+44 g\n",
      "vs. SMBH:\t446233.8415131221 to 4462338.415131221 times\n"
     ]
    }
   ],
   "source": [
    "m_sun = 2e33\n",
    "m_smbh_min = 1e5 * m_sun\n",
    "m_smbh_max = 1e6 * m_sun\n",
    "eta_mass = 0.1 # fractional mass->energy conversion efficiency\n",
    "\n",
    "m_food = E/(eta_mass * c**2)\n",
    "print(f'Mass:\\t\\t{m_food} g')\n",
    "print(f'vs. SMBH:\\t{m_food/m_smbh_max} to {m_food/m_smbh_min} times')"
   ]
  },
  {
   "cell_type": "code",
   "execution_count": null,
   "metadata": {},
   "outputs": [],
   "source": []
  }
 ],
 "metadata": {
  "kernelspec": {
   "display_name": "Python 3",
   "language": "python",
   "name": "python3"
  },
  "language_info": {
   "codemirror_mode": {
    "name": "ipython",
    "version": 3
   },
   "file_extension": ".py",
   "mimetype": "text/x-python",
   "name": "python",
   "nbconvert_exporter": "python",
   "pygments_lexer": "ipython3",
   "version": "3.6.5"
  }
 },
 "nbformat": 4,
 "nbformat_minor": 2
}
