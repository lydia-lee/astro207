{
 "cells": [
  {
   "cell_type": "code",
   "execution_count": 1,
   "metadata": {},
   "outputs": [],
   "source": [
    "%matplotlib inline\n",
    "import numpy as np\n",
    "import matplotlib.pyplot as plt\n",
    "from pprint import pprint"
   ]
  },
  {
   "cell_type": "markdown",
   "metadata": {},
   "source": [
    "<h1>1</h1>"
   ]
  },
  {
   "cell_type": "markdown",
   "metadata": {},
   "source": [
    "When $T \\gg T_*$ (i.e. $h\\nu_{fs} \\ll k_BT$, the Rayleigh-Jeans limit)\n",
    "$$I_\\nu = \\frac{2k_BT_b}{\\lambda^2} = \\frac{2\\nu_{fs}^2}{c^2}k_BT_b$$\n",
    "* $T_b$ brightness temperature\n",
    "* $T_K$ kinetic temperature\n",
    "* $T_s$ spin temperature\n",
    "* $T_\\gamma$ radiation temperature\n",
    "$$\\frac{n_1}{n_0} = \\frac{g_1}{g_0}e^{-\\frac{h\\nu_{fs}}{k_BT_s}}$$\n",
    "* $T_b$ may not be related to $T_K$\n",
    "* LTE $\\Rightarrow T_s = T_K$ \n",
    "$$J_\\nu(\\nu_{fs}) = B_\\nu(T_\\gamma, \\nu_{fs})$$\n",
    "* CMB: $T_\\gamma = 2.7(1+z)$"
   ]
  },
  {
   "cell_type": "markdown",
   "metadata": {},
   "source": [
    "<h2>1.1</h2>"
   ]
  },
  {
   "cell_type": "markdown",
   "metadata": {},
   "source": [
    "For the blackbody CMB, $T_{b,\\text{CMB}} = T_{\\gamma,\\text{CMB}} (\\equiv T_\\gamma)$. For the fluctuation in the 21cm line's brightness temperature\n",
    "\n",
    "$$\n",
    "\\begin{align*}\n",
    "    I_\\nu(s) &= I_{\\nu 0}e^{-\\tau} + S_\\nu(1-e^{-\\tau})\\\\\n",
    "        &= B_\\nu(T_\\gamma, \\nu_{fs})e^{-\\tau} + B_\\nu(T_s, \\nu_{fs})(1-e^{-\\tau})\n",
    "\\end{align*}\n",
    "$$\n",
    "\n",
    "Assuming $h\\nu_{fs} \\ll k_BT$ for all temperatures of interest and placing the intensity relative to the background CMB\n",
    "\n",
    "$$\n",
    "\\begin{align*}\n",
    "    I_\\nu(s) - B_\\nu(T_\\gamma, \\nu_{fs}) &= [B_\\nu(T_s, \\nu_{fs}) - B_\\nu(T_\\gamma, \\nu_{fs})](1-e^{-\\tau})\\\\\n",
    "    T_b - T_\\gamma &= (T_s - T_\\gamma)(1-e^{-\\tau})\n",
    "\\end{align*}\n",
    "$$"
   ]
  },
  {
   "cell_type": "markdown",
   "metadata": {},
   "source": [
    "<h2>1.2</h2>"
   ]
  },
  {
   "cell_type": "markdown",
   "metadata": {},
   "source": [
    "$$\n",
    "\\begin{align*}\n",
    "    \\frac{n_1}{n_0} &= \\frac{g_1}{g_0}e^{-\\frac{h\\nu_{fs}}{k_BT_s}} \\approx \\frac{g_1}{g_0}\\left(1-\\frac{T_*}{T_s}\\right)\\\\\n",
    "    \\frac{A_{10}}{B_{10}} &= \\frac{2h\\nu_{fs}^3}{c^2}\\\\\n",
    "    B_{01} &= B_{10}\\frac{g_1}{g_0}\n",
    "\\end{align*}\n",
    "$$\n",
    "\n",
    "A quick definition of the temperature $T_K$ in a similar vein as the spin temperature--the temperature at which the LTE quantity of exciting and de-exciting collisions per time matches:\n",
    "\n",
    "$$\n",
    "\\begin{align*}\n",
    "    n_0C_{01} &= n_1C_{10}\\\\\n",
    "    \\frac{n_1}{n_0} = \\frac{C_{01}}{C_{10}} &= \\frac{g_1}{g_0}e^{-T_*/T_K} \\approx \\frac{g_1}{g_0}\\left(1-\\frac{T_*}{T_K}\\right)\\\\\n",
    "\\end{align*}\n",
    "$$"
   ]
  },
  {
   "cell_type": "markdown",
   "metadata": {},
   "source": [
    "Now back to the more general statistical equilibrium:\n",
    "\n",
    "$$\n",
    "\\begin{align*}\n",
    "    n_0 (B_{01}\\overline{J} + C_{01}) &= n_1 (A_{10} + B_{10}\\overline{J} + C_{10})\\\\\n",
    "    \\frac{n_1}{n_0} &= \\frac{B_{01}\\overline{J} + C_{01}}{A_{10} + B_{10}\\overline{J} + C_{10}}\n",
    "\\end{align*}\n",
    "$$"
   ]
  },
  {
   "cell_type": "markdown",
   "metadata": {},
   "source": [
    "Getting back to the definition of spin temperature:\n",
    "\n",
    "$$\n",
    "\\begin{align*}\n",
    "    \\frac{n_1}{n_0} &\\approx \\frac{g_1}{g_0}\\left(1-\\frac{T_*}{T_s}\\right)\\\\\n",
    "    \\frac{g_1}{g_0}\\left(1-\\frac{T_*}{T_s}\\right) &\\approx \\frac{B_{01}\\overline{J} + C_{01}}{A_{10} + B_{10}\\overline{J} + C_{10}}\\\\\n",
    "    \\frac{T_*}{T_s} &= 1 - \\frac{g_0}{g_1}\\frac{B_{01}\\overline{J} + C_{01}}{A_{10} + C_{10} + B_{10}\\overline{J}}\\\\\n",
    "    \\frac{1}{T_s} &= \\frac{1}{T_*} \\frac{g_1(A_{10} + C_{10} + B_{10}\\overline{J}) - g_0(B_{01}\\overline{J} + C_{01})}{g_1(A_{10} + C_{10} + B_{10}\\overline{J})}\n",
    "\\end{align*}\\\\\n",
    "$$"
   ]
  },
  {
   "cell_type": "markdown",
   "metadata": {},
   "source": [
    "Looking at the denominator:\n",
    "\n",
    "$$\n",
    "\\begin{align*}\n",
    "    A_{10} + C_{10} + B_{10}\\overline{J} &= A_{10}\\left(1 + \\frac{c^2}{2h\\nu_{fs}^3}\\overline{J}\\right) + C_{10}\\\\\n",
    "        &= A_{10}\\left(1 + \\frac{c^2}{2h\\nu_{fs}^3}\\frac{2\\nu_{fs}^2}{c^2}k_BT_\\gamma\\right) + C_{10}\\\\\n",
    "        &= A_{10}\\left(1 + \\frac{T_\\gamma}{T_*}\\right) + C_{10}\\\\\n",
    "        &\\approx A_{10}\\frac{T_\\gamma}{T_*} + C_{10}\\\\\n",
    "        &= A_{10}\\frac{T_\\gamma}{T_*}\\left(1 + x_c\\right)\n",
    "\\end{align*}\n",
    "$$"
   ]
  },
  {
   "cell_type": "markdown",
   "metadata": {},
   "source": [
    "And going back to the full expression\n",
    "\n",
    "$$\n",
    "\\begin{align*}\n",
    "    \\frac{1}{T_s} &= \\frac{g_1(A_{10} + C_{10} + B_{10}\\overline{J}) - g_0(B_{01}\\overline{J} + C_{01})}{g_1A_{10}T_\\gamma(1+x_c)}\\\\\n",
    "        &= \\frac{g_1(A_{10} + C_{10}) - g_0C_{01}}{g_1A_{10}T_\\gamma(1+x_c)}\\\\\n",
    "        &= \\frac{1}{1+x_c}\\left(\\frac{1}{T_\\gamma} + \\frac{C_{10}}{A_{10}T_\\gamma}\\left[1 - \\frac{g_0}{g_1}\\frac{C_{01}}{C_{10}}\\right]\\right)\\\\\n",
    "        &\\approx \\frac{1}{1+x_c}\\left(\\frac{1}{T_\\gamma} + \\frac{x_c}{T_*}\\left[1-\\left\\{1 - \\frac{T_*}{T_K}\\right\\}\\right]\\right)\\\\\n",
    "        &= \\frac{1}{1+x_c}\\left(\\frac{1}{T_\\gamma} + \\frac{x_c}{T_K}\\right)\n",
    "\\end{align*}\n",
    "$$"
   ]
  },
  {
   "cell_type": "markdown",
   "metadata": {},
   "source": [
    "<font color='red'>TODO limits</font>"
   ]
  },
  {
   "cell_type": "markdown",
   "metadata": {},
   "source": [
    "<h2>1.3</h2>"
   ]
  },
  {
   "cell_type": "markdown",
   "metadata": {},
   "source": [
    "<font color='red'>Check</font>\n",
    "\n",
    "$$\n",
    "\\begin{align*}\n",
    "    x_c = \\frac{C_{10}}{A_{10}}\\frac{T_*}{T_\\gamma} &\\approx 1\\\\\n",
    "    C_{10} = n_\\text{H}\\sigma_{10}v &\\approx A_{10}\\frac{T_\\gamma}{T_*}\\\\\n",
    "    n_H &\\approx \\frac{A_{10}}{\\sigma_{10}v}\\frac{T_\\gamma}{T_*}\\\\\n",
    "        &\\approx \\frac{A_{10}}{\\sigma_{10}\\sqrt{\\frac{2k_BT_K}{m_H}}}\\frac{T_\\gamma}{T_*}\n",
    "\\end{align*}\n",
    "$$"
   ]
  },
  {
   "cell_type": "code",
   "execution_count": 2,
   "metadata": {},
   "outputs": [],
   "source": [
    "hbar = 1.05e-27 # erg.s, reduced Planck constant\n",
    "h_Planck = hbar*2*np.pi # erg/Hz, Planck constant\n",
    "c = 3e10 # cm/s, speed of light\n",
    "kB = 1.4e-16 # erg/K, Boltzmann constant\n",
    "N_Avo = 6e23 \n",
    "a0 = .5e-8 # cm, Bohr radius\n",
    "m_H = 1/N_Avo # g, hydrogen atom mass"
   ]
  },
  {
   "cell_type": "code",
   "execution_count": 4,
   "metadata": {},
   "outputs": [
    {
     "name": "stdout",
     "output_type": "stream",
     "text": [
      "Critical Hydrogen Number Density: 0.011116170240458951 atoms/cm^3\n"
     ]
    }
   ],
   "source": [
    "lamb_fs = 21 # cm, wavelength of 21cm line\n",
    "nu_fs = c/lamb_fs\n",
    "T_star = .068 # K, h_Planck*nu_fs/kB\n",
    "T_gamma = 2.7\n",
    "T_K = 100\n",
    "A_10 = 2.85e-15 # 1/s, Einstein A of 21cm line\n",
    "\n",
    "sigma_10 = np.pi * a0**2\n",
    "n_H = A_10/(sigma_10 * np.sqrt(2*kB*T_K/m_H)) * T_gamma/T_star\n",
    "print(f'Critical Hydrogen Number Density: {n_H} atoms/cm^3')"
   ]
  },
  {
   "cell_type": "markdown",
   "metadata": {},
   "source": [
    "<h2>1.4</h2>"
   ]
  },
  {
   "cell_type": "markdown",
   "metadata": {},
   "source": [
    "$$\n",
    "\\begin{align*}\n",
    "    \\frac{P_{01}}{P_{10}} &= \\frac{g_1}{g_0}e^{-\\frac{h\\nu_{fs}}{k_BT_K}}\\\\\n",
    "        &\\approx \\frac{g_1}{g_0}\\left(1 - \\frac{h\\nu_{fs}}{k_BT_K}\\right)\n",
    "\\end{align*}\n",
    "$$"
   ]
  },
  {
   "cell_type": "markdown",
   "metadata": {},
   "source": [
    "Inserting an additional term to account for Ly-$\\alpha$ photons driving transitions\n",
    "\n",
    "$$\n",
    "n_0 (B_{01}\\overline{J} + C_{01} + P_{01}) = n_1 (A_{10} + B_{10}\\overline{J} + C_{10} + P_{10})\n",
    "$$\n",
    "\n",
    "Through the same algebra from before, we get\n",
    "\n",
    "$$\n",
    "\\begin{align*}\n",
    "    \\frac{1}{T_s} &= \\frac{1}{1 + x_c + x_\\alpha}\\left(\\frac{1}{T_\\gamma} + \\frac{x_c + x_\\alpha}{T_K}\\right)\\\\\n",
    "    x_\\alpha &= \\frac{P_{10}}{A_{10}}\\frac{T_*}{T_\\gamma}\n",
    "\\end{align*}\n",
    "$$"
   ]
  },
  {
   "cell_type": "markdown",
   "metadata": {},
   "source": [
    "<h2>1.5</h2>"
   ]
  },
  {
   "cell_type": "markdown",
   "metadata": {},
   "source": [
    "<h3>1: $(200 \\leq z \\leq 1100)$</h3>\n",
    "<font color = 'red'>TODO</font>"
   ]
  },
  {
   "cell_type": "markdown",
   "metadata": {},
   "source": [
    "<h3>2: $(40 \\leq z \\leq 200)$</h3>\n",
    "<font color = 'red'>TODO</font>"
   ]
  },
  {
   "cell_type": "markdown",
   "metadata": {},
   "source": [
    "<h3>3: $(30 \\leq z \\leq 40)$</h3>\n",
    "<font color = 'red'>TODO</font>"
   ]
  },
  {
   "cell_type": "markdown",
   "metadata": {},
   "source": [
    "<h3>4: $(15 \\leq z \\leq 30)$</h3>\n",
    "<font color = 'red'>TODO</font>"
   ]
  },
  {
   "cell_type": "markdown",
   "metadata": {},
   "source": [
    "<h3>5: $(7 \\leq z \\leq 15)$</h3>\n",
    "<font color = 'red'>TODO</font>"
   ]
  },
  {
   "cell_type": "markdown",
   "metadata": {},
   "source": [
    "<h3>7: $(z\\leq 7)$</h3>\n",
    "<font color = 'red'>TODO</font>"
   ]
  }
 ],
 "metadata": {
  "kernelspec": {
   "display_name": "Python 3",
   "language": "python",
   "name": "python3"
  },
  "language_info": {
   "codemirror_mode": {
    "name": "ipython",
    "version": 3
   },
   "file_extension": ".py",
   "mimetype": "text/x-python",
   "name": "python",
   "nbconvert_exporter": "python",
   "pygments_lexer": "ipython3",
   "version": "3.6.5"
  }
 },
 "nbformat": 4,
 "nbformat_minor": 2
}
