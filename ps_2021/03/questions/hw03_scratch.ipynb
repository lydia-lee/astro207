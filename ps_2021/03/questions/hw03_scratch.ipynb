{
 "cells": [
  {
   "cell_type": "code",
   "execution_count": 2,
   "metadata": {},
   "outputs": [],
   "source": [
    "%matplotlib inline\n",
    "import numpy as np\n",
    "import matplotlib.pyplot as plt\n",
    "from pprint import pprint"
   ]
  },
  {
   "cell_type": "markdown",
   "metadata": {},
   "source": [
    "<h1>1: Hyperfine Emission from Neutral Hydrogen</h1>\n",
    "<h2>1.1</h2>"
   ]
  },
  {
   "cell_type": "code",
   "execution_count": 3,
   "metadata": {},
   "outputs": [],
   "source": [
    "hbar = 1e-27 # erg.s\n",
    "h = 2*np.pi * hbar # erg.s\n",
    "k_B = 1.4e-16 # erg/K\n",
    "lamb = 21 # cm\n",
    "c = 3e10 # cm/s"
   ]
  },
  {
   "cell_type": "code",
   "execution_count": 4,
   "metadata": {},
   "outputs": [
    {
     "name": "stdout",
     "output_type": "stream",
     "text": [
      "0.0641141357875468\n"
     ]
    }
   ],
   "source": [
    "Tstar = h*c/(lamb*k_B)\n",
    "print(f'{Tstar}')"
   ]
  },
  {
   "cell_type": "markdown",
   "metadata": {},
   "source": [
    "<h2>1.3</h2>"
   ]
  },
  {
   "cell_type": "code",
   "execution_count": 5,
   "metadata": {},
   "outputs": [],
   "source": [
    "Tex = 100 # K\n",
    "n = 1 # 1/cm^3, gas density\n",
    "N0 = 6e23 # Avogadro\n",
    "A21 = 3e-15 # 1/s, hydrogen hyperfine\n",
    "\n",
    "m = 1/N0 # g, mass of atomic hydrogen\n",
    "cm2pc = lambda x: x/3.086e18"
   ]
  },
  {
   "cell_type": "code",
   "execution_count": 6,
   "metadata": {},
   "outputs": [
    {
     "name": "stdout",
     "output_type": "stream",
     "text": [
      "2.438373925326885e+20\n",
      "79.01406109289971\n"
     ]
    }
   ],
   "source": [
    "v = np.sqrt(2*k_B*Tex/m)\n",
    "del_nu = v/lamb\n",
    "L_reciprocal = 3/(8*np.pi) * A21/del_nu * lamb**2 * n/4 * Tstar/Tex\n",
    "L = 1/L_reciprocal\n",
    "print(L)\n",
    "print(cm2pc(L))"
   ]
  },
  {
   "cell_type": "code",
   "execution_count": null,
   "metadata": {},
   "outputs": [],
   "source": []
  },
  {
   "cell_type": "markdown",
   "metadata": {},
   "source": [
    "<h1>3: Rotating Magnetic Dipole</h1>\n",
    "<h2>3.3</h2>"
   ]
  },
  {
   "cell_type": "code",
   "execution_count": 7,
   "metadata": {},
   "outputs": [],
   "source": [
    "M = 2e33 # g, mass of the sun\n",
    "R = 1e6 # cm\n",
    "B0 = 1e12 # gauss = sqrt(g/cm)/s WHAT ARE THESE UNITS\n",
    "alpha = np.pi/2 # radians\n",
    "c = 3e10 # cm/s\n",
    "\n",
    "omega_vec = [1e4, 1e3, 1e2]"
   ]
  },
  {
   "cell_type": "code",
   "execution_count": 8,
   "metadata": {},
   "outputs": [
    {
     "name": "stdout",
     "output_type": "stream",
     "text": [
      "['6.480e+08', '6.480e+10', '6.480e+12']\n",
      "[6.17283950617284e+43, 6.17283950617284e+39, 6.17283950617284e+35]\n"
     ]
    }
   ],
   "source": [
    "P_vec = [omega**4 * np.sin(alpha)**2 * B0**2 * R**6/(6*c**3) for omega in omega_vec] # erg/s, UNITS\n",
    "tau_vec = [6 * c**3 * M/(5*omega**2 * np.sin(alpha)**2 * B0**2 * R**4) for omega in omega_vec] # s\n",
    "# print([tau/(525600*60) for tau in tau_vec])\n",
    "print(['{:.3e}'.format(tau) for tau in tau_vec])\n",
    "print(P_vec)"
   ]
  },
  {
   "cell_type": "code",
   "execution_count": null,
   "metadata": {},
   "outputs": [],
   "source": []
  }
 ],
 "metadata": {
  "kernelspec": {
   "display_name": "Python 3",
   "language": "python",
   "name": "python3"
  },
  "language_info": {
   "codemirror_mode": {
    "name": "ipython",
    "version": 3
   },
   "file_extension": ".py",
   "mimetype": "text/x-python",
   "name": "python",
   "nbconvert_exporter": "python",
   "pygments_lexer": "ipython3",
   "version": "3.6.5"
  }
 },
 "nbformat": 4,
 "nbformat_minor": 2
}
