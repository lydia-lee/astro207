{
 "cells": [
  {
   "cell_type": "markdown",
   "metadata": {},
   "source": [
    "# C207 Activity Sheet 17"
   ]
  },
  {
   "cell_type": "markdown",
   "metadata": {},
   "source": [
    "# Problem 1. What is synchrotron self-absorption, and when is it important?"
   ]
  },
  {
   "cell_type": "markdown",
   "metadata": {},
   "source": [
    "__Answer:__\n",
    "It's when synchotron radiation gets re-absorbed in an optically thick medium."
   ]
  },
  {
   "cell_type": "markdown",
   "metadata": {},
   "source": [
    "# Problem 2. What is the spectral dependence of synchrotron emission in the self-absorbed regime?"
   ]
  },
  {
   "cell_type": "markdown",
   "metadata": {},
   "source": [
    "__Answer:__\n",
    "$$I_\\nu \\propto \\nu^{5/2}B^{-1/2}$$"
   ]
  },
  {
   "cell_type": "markdown",
   "metadata": {},
   "source": [
    "# Problem 3. Is self-absorbed synchrotron emission thermal?"
   ]
  },
  {
   "cell_type": "markdown",
   "metadata": {},
   "source": [
    "__Answer:__\n",
    "Definitively not, though it doesn't stop us from deriving things as though it is."
   ]
  },
  {
   "cell_type": "markdown",
   "metadata": {},
   "source": [
    "# Problem 4. How does self-Compton scattering affect a synchrotron spectrum?  Draw a picture."
   ]
  },
  {
   "cell_type": "markdown",
   "metadata": {},
   "source": [
    "__Answer:__\n",
    "You get the spectrum copied + expanded to the new frequency range defined by $\\nu_\\text{min}\\gamma_\\text{min}$ and $\\nu_\\text{max}\\gamma_\\text{max}^2$"
   ]
  },
  {
   "cell_type": "markdown",
   "metadata": {},
   "source": [
    "# Problem 5. What is the criterion for a Compton catastrophe?"
   ]
  },
  {
   "cell_type": "markdown",
   "metadata": {},
   "source": [
    "__Answer:__\n",
    "For the total luminosity\n",
    "$$L_\\text{tot} = L_\\text{sync}\\sum_{i=0}(\\gamma^2 \\tau)^i$$\n",
    "where $\\gamma^2\\tau_\\text{SSC} > \\frac{1}{2}$ (i.e. the series doesn't converge). Things only stop when you stop getting the $\\gamma^2$ boost, i.e. you hit $k_BT_b = \\gamma m_ec^2$"
   ]
  },
  {
   "cell_type": "markdown",
   "metadata": {},
   "source": [
    "# Problem 6. Catastrophe?\n",
    "\n",
    "<img src=\"./sync_self_compton.png\" width=\"50%\" />\n",
    "\n",
    "The figure above shows synchrotron and synchrotron self-Compton \n",
    "spectra of Mkn 501 (Konopelko et al. 2003, ApJ, 597, 851).  The\n",
    "ordinate $\\nu F_\\nu$ on this plot is proportional to flux density per logarithmic\n",
    "frequency range, so the relative heights of the two peaks reflect their\n",
    "relative contributions to $U_{\\rm rad}$.\n",
    "What is the implied maximum $\\gamma$ of the emitting electrons?\n",
    "How close is this spectrum to a Compton catastrophe?"
   ]
  },
  {
   "cell_type": "code",
   "execution_count": 6,
   "metadata": {},
   "outputs": [
    {
     "name": "stdout",
     "output_type": "stream",
     "text": [
      "54.598150033144236\n"
     ]
    }
   ],
   "source": [
    "import numpy as np\n",
    "\n",
    "# Calculations here\n",
    "nu_max0 = np.exp(19) # Hz\n",
    "nu_max1 = np.exp(27) # Hz\n",
    "\n",
    "gamma_max = np.sqrt(nu_max1/nu_max0)\n",
    "print(gamma_max)"
   ]
  },
  {
   "cell_type": "markdown",
   "metadata": {},
   "source": [
    "$$L_\\text{IC} \\approx \\gamma^2\\tau_\\text{SSC}L_\\text{sync}$$\n",
    "$$\\gamma^2\\tau_\\text{SSC} \\approx \\frac{L_\\text{IC}}{L_\\text{sync}} = \\frac{U_\\text{IC}}{U_\\text{sync}}$$\n",
    "So we care if the ratio of the peaks ever exceeds 1/2---which it looks like it's close to doing."
   ]
  },
  {
   "cell_type": "markdown",
   "metadata": {},
   "source": [
    "__Answer:__"
   ]
  }
 ],
 "metadata": {
  "kernelspec": {
   "display_name": "Python 3",
   "language": "python",
   "name": "python3"
  },
  "language_info": {
   "codemirror_mode": {
    "name": "ipython",
    "version": 3
   },
   "file_extension": ".py",
   "mimetype": "text/x-python",
   "name": "python",
   "nbconvert_exporter": "python",
   "pygments_lexer": "ipython3",
   "version": "3.6.5"
  }
 },
 "nbformat": 4,
 "nbformat_minor": 4
}
